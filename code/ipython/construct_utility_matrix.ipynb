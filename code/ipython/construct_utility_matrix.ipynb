{
 "metadata": {
  "name": "",
  "signature": "sha256:0771b4d47ce0ac06e1b89c8e7258d3225dabc6586833a1fcc74257e029ff7841"
 },
 "nbformat": 3,
 "nbformat_minor": 0,
 "worksheets": [
  {
   "cells": [
    {
     "cell_type": "code",
     "collapsed": false,
     "input": [
      "import os\n",
      "current_dir = os.getcwd()\n",
      "data_dir = os.path.join(current_dir, 'data')\n",
      "if not os.path.exists(data_dir):\n",
      "    os.mkdir(data_dir)\n",
      "    \n",
      "from datetime import datetime"
     ],
     "language": "python",
     "metadata": {},
     "outputs": [],
     "prompt_number": 144
    },
    {
     "cell_type": "code",
     "collapsed": false,
     "input": [
      "import pandas.io.sql as psql\n",
      "import pymysql as mdb\n",
      "\n",
      "# establish connection\n",
      "db = mdb.connect(user=\"root\", host=\"localhost\", db=\"shoptiques\", charset=\"utf8\")\n",
      "\n",
      "# grab data from mysql to pandas\n",
      "with db:\n",
      "    sql = \"\"\"\n",
      "            SELECT supplier_order_line_item.id, supplier_order.order_id,\n",
      "                   supplier_product_variant.product_variant_id, product_variant.product_id, orders.user_id\n",
      "                       FROM supplier_order_line_item LEFT JOIN (supplier_order, supplier_product_variant)\n",
      "                           ON (supplier_order_line_item.supplier_order_id = supplier_order.id AND\n",
      "                               supplier_order_line_item.supplier_product_variant_id = supplier_product_variant.id)\n",
      "                                   LEFT JOIN product_variant\n",
      "                                       ON (supplier_product_variant.product_variant_id = product_variant.id)\n",
      "                                           LEFT JOIN orders\n",
      "                                               ON (supplier_order.order_id = orders.id)\n",
      "                                           \n",
      "        \"\"\"\n",
      "    order_df = psql.read_sql(sql, db, index_col='id')\n",
      "    print order_df.head()"
     ],
     "language": "python",
     "metadata": {},
     "outputs": [
      {
       "output_type": "stream",
       "stream": "stdout",
       "text": [
        "    order_id  product_variant_id  product_id  user_id\n",
        "id                                                   \n",
        "1        451                2444         993     1898\n",
        "2        464                2340         959      418\n",
        "3        464                2342         959      418\n",
        "4        464                2340         959      418\n",
        "5        489                3779        1469     4558\n"
       ]
      }
     ],
     "prompt_number": 151
    },
    {
     "cell_type": "code",
     "collapsed": false,
     "input": [
      "# group product if a user bought one product multiple times\n",
      "order_df_grouped = order_df.groupby(['user_id', 'product_id']).size()\n",
      "\n",
      "file_name = \"user_product_order_{0.month}_{0.day}_{0.year}.dat\".format(datetime.now())\n",
      "order_df_grouped.to_csv(os.path.join(data_dir, file_name))"
     ],
     "language": "python",
     "metadata": {},
     "outputs": [],
     "prompt_number": 149
    }
   ],
   "metadata": {}
  }
 ]
}